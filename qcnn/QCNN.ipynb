{
  "nbformat": 4,
  "nbformat_minor": 0,
  "metadata": {
    "colab": {
      "provenance": []
    },
    "kernelspec": {
      "name": "python3",
      "display_name": "Python 3"
    },
    "language_info": {
      "name": "python"
    },
    "gpuClass": "standard",
    "accelerator": "GPU"
  },
  "cells": [
    {
      "cell_type": "code",
      "execution_count": null,
      "metadata": {
        "id": "er6OHI1YzR3_"
      },
      "outputs": [],
      "source": [
        "!pip install qiskit\n",
        "!pip install qiskit-aer-gpu"
      ]
    },
    {
      "cell_type": "code",
      "source": [
        "# Library imports\n",
        "import math\n",
        "import random\n",
        "import numpy as np\n",
        "import pandas as pd\n",
        "import matplotlib.pyplot as plt\n",
        "import matplotlib.gridspec as gridspec\n",
        "\n",
        "# Pytorch imports\n",
        "import torch\n",
        "import torch.nn as nn\n",
        "import torch.optim as optim\n",
        "import torchvision\n",
        "import torchvision.transforms as transforms\n",
        "from torch.utils.data import Dataset, DataLoader\n",
        "\n",
        "# Set the random seed for reproducibility\n",
        "seed = 42\n",
        "torch.manual_seed(seed)\n",
        "np.random.seed(seed)\n",
        "random.seed(seed)\n",
        "\n",
        "df = pd.read_csv(\"/content/sample_data/mnist_train_small.csv\", header=None)\n",
        "df = df.loc[(df.iloc[:, 0] == 0) + (df.iloc[:, 0] == 1)]"
      ],
      "metadata": {
        "id": "Uj1sxhw6zXbZ"
      },
      "execution_count": 2,
      "outputs": []
    },
    {
      "cell_type": "code",
      "source": [
        "image_size = 16"
      ],
      "metadata": {
        "id": "A4_ApdaR3LXH"
      },
      "execution_count": 3,
      "outputs": []
    },
    {
      "cell_type": "code",
      "source": [
        "#data preprocessing\n",
        "#make (28x28) -> (16x16)\n",
        "\n",
        "def reduce(arr):\n",
        "  temp =  np.array(arr).reshape(28, 28).tolist()\n",
        "  temp.insert(0, [0]*28)\n",
        "  temp.insert(0, [0]*28)\n",
        "  temp.insert(-1, [0]*28)\n",
        "  temp.insert(-1, [0]*28)\n",
        "  for i in range(len(temp)):\n",
        "    temp[i].insert(0, 0)\n",
        "    temp[i].insert(0, 0)\n",
        "    temp[i].insert(-1, 0)\n",
        "    temp[i].insert(-1, 0)\n",
        "\n",
        "  temp2 = []\n",
        "  for i in range(int(len(temp)/2)):\n",
        "    t = []\n",
        "    for j in range(int(len(temp)/2)):  \n",
        "      tt = (temp[2*i][2*j] + temp[2*i+1][2*j]\n",
        "            + temp[2*i][2*j+1] + temp[2*i+1][2*j+1])/4\n",
        "      t.append(int(tt))\n",
        "    temp2.append(t)\n",
        "\n",
        "  return temp2\n",
        "\n",
        "col_name2=[\"label\"]\n",
        "for i in range(image_size*image_size):\n",
        "  col_name2.append(\"pixel\"+str(i))\n",
        "\n",
        "dfToList = df.values\n",
        "\n",
        "save = []\n",
        "for digit in dfToList:\n",
        "  t = [digit[0]]\n",
        "  t += np.array(reduce(digit[1:])).reshape(256).tolist()\n",
        "  save.append(t)\n",
        "\n",
        "save_test=pd.DataFrame(save, columns=col_name2)[:100]\n",
        "save_train=pd.DataFrame(save, columns=col_name2)[100:]\n",
        "\n",
        "save_train.to_csv(\"./mnist_zero_minisize_full_train.csv\", index=False)\n",
        "save_test.to_csv(\"./mnist_zero_minisize_full_test.csv\", index=False)"
      ],
      "metadata": {
        "id": "QGlIjFS6zbO6"
      },
      "execution_count": 4,
      "outputs": []
    },
    {
      "cell_type": "code",
      "source": [
        "df2 = pd.read_csv(\"./mnist_zero_minisize_full_train.csv\")\n",
        "\n",
        "plt.imshow(np.array(df2.iloc[0, 1:]).reshape(16, 16), cmap='gray', interpolation='none')\n",
        "\n",
        "image = df2.iloc[0, 1:] / 256\n",
        "\n",
        "image = np.array(image)\n",
        "image = image.astype(np.float32).reshape(16, 16)"
      ],
      "metadata": {
        "colab": {
          "base_uri": "https://localhost:8080/",
          "height": 265
        },
        "id": "TBc2HtZh5WKO",
        "outputId": "0f365407-6f0f-48b7-d62c-053d69dad8a9"
      },
      "execution_count": 5,
      "outputs": [
        {
          "output_type": "display_data",
          "data": {
            "text/plain": [
              "<Figure size 432x288 with 1 Axes>"
            ],
            "image/png": "[encoded data removed]"
          },
          "metadata": {
            "needs_background": "light"
          }
        }
      ]
    },
    {
      "cell_type": "code",
      "source": [
        "class DigitsDataset(Dataset):\n",
        "    \"\"\"Pytorch dataloader for the Optical Recognition of Handwritten Digits Data Set\"\"\"\n",
        "\n",
        "    def __init__(self, csv_file, label=0, transform=None):\n",
        "        \"\"\"\n",
        "        Args:\n",
        "            csv_file (string): Path to the csv file with annotations.\n",
        "            label (int): labels for each feater data\n",
        "            transform (callable, optional): Optional transform to be applied\n",
        "                on a sample.\n",
        "        \"\"\"\n",
        "        self.csv_file = csv_file\n",
        "        self.transform = transform\n",
        "        self.df = pd.read_csv(self.csv_file)\n",
        "\n",
        "    # def filter_by_label(self, label):\n",
        "    #     df = pd.read_csv(self.csv_file)\n",
        "    #     df = df.loc[df.iloc[:, -1] == label]\n",
        "    #     return df\n",
        "\n",
        "    def __len__(self):\n",
        "        return len(self.df)\n",
        "\n",
        "    def __getitem__(self, idx):\n",
        "        if torch.is_tensor(idx):\n",
        "            idx = idx.tolist()\n",
        "\n",
        "        image = self.df.iloc[idx, 1:] / 256\n",
        "        image = np.array(image)\n",
        "        image = image.astype(np.float32).reshape(16, 16)\n",
        "\n",
        "        if self.transform:\n",
        "            image = self.transform(image)\n",
        "\n",
        "        # Return image and label\n",
        "        return image, self.df.iloc[idx, 0]\n",
        "\n",
        "batch_size = 1\n",
        "\n",
        "transform = transforms.Compose([transforms.ToTensor()])\n",
        "dataset = DigitsDataset(csv_file=\"./mnist_zero_minisize_full_train.csv\", transform=transform)\n",
        "dataset_test = DigitsDataset(csv_file=\"./mnist_zero_minisize_full_test.csv\", transform=transform)\n",
        "\n",
        "dataloader = torch.utils.data.DataLoader(\n",
        "    dataset, batch_size=batch_size, shuffle=True, drop_last=True\n",
        ")\n",
        "dataloader_test = torch.utils.data.DataLoader(\n",
        "    dataset_test, batch_size=batch_size, shuffle=True, drop_last=True\n",
        ")"
      ],
      "metadata": {
        "id": "WDYplNFA5ePm"
      },
      "execution_count": 6,
      "outputs": []
    },
    {
      "cell_type": "code",
      "source": [
        "plt.figure(figsize=(8,2))\n",
        "\n",
        "for i in range(8):\n",
        "    image = dataset[i][0].reshape(image_size,image_size)\n",
        "    plt.subplot(1,8,i+1)\n",
        "    plt.axis('off')\n",
        "    plt.imshow(image.numpy(), cmap='gray')\n",
        "\n",
        "plt.show()"
      ],
      "metadata": {
        "colab": {
          "base_uri": "https://localhost:8080/",
          "height": 78
        },
        "id": "OdJsPP6Ofz0e",
        "outputId": "394401db-222d-429b-d06b-2faff1231be6"
      },
      "execution_count": 7,
      "outputs": [
        {
          "output_type": "display_data",
          "data": {
            "text/plain": [
              "<Figure size 576x144 with 8 Axes>"
            ],
            "image/png": "[encoded data removed]"
          },
          "metadata": {
            "needs_background": "light"
          }
        }
      ]
    },
    {
      "cell_type": "code",
      "source": [
        "#amplitude encoding\n",
        "#just use qiskit module 'initialize'\n",
        "\n",
        "from qiskit import QuantumCircuit, execute, BasicAer\n",
        "from sklearn.preprocessing import normalize\n",
        "\n",
        "test = dataset[0][0].reshape(1, -1) \n",
        "test = normalize(test)[0] \n",
        "\n",
        "\n",
        "circuit = QuantumCircuit(8, 8)\n",
        "circuit.initialize(test, circuit.qubits)\n",
        "circuit.measure([0, 1, 2, 3, 4,5, 6, 7], [0, 1, 2, 3, 4, 5, 6, 7])\n",
        "# circuit.draw()\n",
        "\n",
        "shots = 100000\n",
        "\n",
        "# Desired vector\n",
        "desired_vector = test\n",
        "\n",
        "# Initialize on local simulator\n",
        "sim_backend = BasicAer.get_backend(\"qasm_simulator\")\n",
        "job = execute(circuit, sim_backend, shots=shots)\n",
        "result = job.result()\n",
        "\n",
        "counts = result.get_counts(circuit)\n",
        "\n",
        "qubit_strings = [format(i, \"0%sb\" % 8) for i in range(2**8)]\n",
        "image = np.array([float(format(counts.get(s, 0) / shots, \".3f\")) for s in qubit_strings])\n",
        "image = image.astype(np.float32).reshape(16, 16)\n",
        "plt.figure(figsize=(16, 8))\n",
        "plt.axis('off')\n",
        "plt.subplot(1,2,1)\n",
        "plt.imshow(image, cmap='gray', interpolation='none')\n",
        "plt.subplot(1,2,2)\n",
        "plt.imshow(dataset[0][0].reshape(16, 16), cmap='gray', interpolation='none')"
      ],
      "metadata": {
        "id": "H9VA_Bf5sRaB",
        "colab": {
          "base_uri": "https://localhost:8080/",
          "height": 472
        },
        "outputId": "253c0a22-47ac-44c4-8f2b-227bbc4851a7"
      },
      "execution_count": 8,
      "outputs": [
        {
          "output_type": "execute_result",
          "data": {
            "text/plain": [
              "<matplotlib.image.AxesImage at 0x7f3cfa928940>"
            ]
          },
          "metadata": {},
          "execution_count": 8
        },
        {
          "output_type": "display_data",
          "data": {
            "text/plain": [
              "<Figure size 1152x576 with 2 Axes>"
            ],
            "image/png": "[encoded data removed]"
          },
          "metadata": {
            "needs_background": "light"
          }
        }
      ]
    },
    {
      "cell_type": "code",
      "source": [
        "n_qubits = 8\n",
        "n_out_qubit = 1\n",
        "n_conv = 6\n",
        "n_pool = 2\n",
        "device = torch.device(\"cuda:0\" if torch.cuda.is_available() else \"cpu\")"
      ],
      "metadata": {
        "id": "nDiBuVk058IX"
      },
      "execution_count": 9,
      "outputs": []
    },
    {
      "cell_type": "code",
      "source": [
        "#model\n",
        "import qiskit\n",
        "from qiskit import transpile, assemble\n",
        "from qiskit.visualization import *\n",
        "from qiskit.circuit import QuantumCircuit, ParameterVector\n",
        "from torch.autograd import Function\n",
        "\n",
        "\n",
        "def convolution(n_qubits, params):\n",
        "    _circuit = qiskit.QuantumCircuit(n_qubits)\n",
        "\n",
        "    _circuit.ry(params[0], 0)\n",
        "    _circuit.ry(params[1], 1)\n",
        "    _circuit.cz(0, 1)\n",
        "    _circuit.ry(params[2], 0)\n",
        "    _circuit.ry(params[3], 1)\n",
        "    _circuit.cz(0, 1)\n",
        "    _circuit.ry(params[4], 0)\n",
        "    _circuit.ry(params[5], 1)\n",
        "    return _circuit\n",
        "\n",
        "\n",
        "def pooling(n_qubits, params):\n",
        "    _circuit = qiskit.QuantumCircuit(n_qubits) \n",
        "\n",
        "    _circuit.crz(params[0], 0, 1)\n",
        "    _circuit.x(0)\n",
        "    _circuit.crx(params[1], 0, 1)\n",
        "    return _circuit\n",
        "\n",
        "class QCircuit():\n",
        "  def __init__(self,n_qubits, n_out_qubit, n_conv, n_pool, backend, shots):\n",
        "    # raise exception when n_qubits is not power of 2\n",
        "    self._circuit = qiskit.QuantumCircuit(n_qubits, n_out_qubit)\n",
        "    tt = 2*n_out_qubit - 3 if n_out_qubit != 1 else 0 \n",
        "    self.params_conv = ParameterVector(\"C\", n_conv*(2*n_qubits - 3 - tt))\n",
        "    self.params_pool = ParameterVector(\"P\", n_pool*(n_qubits - 1 - tt))\n",
        "    self.n_qubits = n_qubits\n",
        "    self.n_out_qubit = n_out_qubit\n",
        "\n",
        "    layer = n_qubits\n",
        "    j = 1\n",
        "    iter_conv = 0\n",
        "    iter_pool = 0\n",
        "    while layer > n_out_qubit:\n",
        "      for i in range(int(layer/2)):\n",
        "        self._circuit.compose(convolution(2, self.params_conv[iter_conv:iter_conv+n_conv]), \n",
        "                              qubits=[j*2*i + j-1, j*2*i + j-1 + j*1], inplace=True)\n",
        "        iter_conv += n_conv\n",
        "\n",
        "      self._circuit.barrier()\n",
        "      if(int(layer/2) > 1): \n",
        "        for i in range(int(layer/2)):\n",
        "          self._circuit.compose(convolution(2, self.params_conv[iter_conv:iter_conv+n_conv]), \n",
        "                                qubits=[j*2*i + j-1 + j*1, (j*2*i + j-1 + j*2)%(n_qubits)], inplace=True)\n",
        "          iter_conv += n_conv\n",
        "        self._circuit.barrier() \n",
        "\n",
        "      for i in range(int(layer/2)):\n",
        "            self._circuit.compose(pooling(2, self.params_pool[iter_pool:iter_pool+n_pool]),\n",
        "                                  qubits=[j*2*i + j-1, j*2*i + j-1 + j*1], inplace=True)\n",
        "            iter_pool +=n_pool\n",
        "      self._circuit.barrier()\n",
        "\n",
        "      layer = int(layer/2)\n",
        "      j *= 2\n",
        "    for i in range(n_out_qubit):\n",
        "      self._circuit.measure(int(n_qubits/(2**i))-1, i)\n",
        "    # ---------------------------\n",
        "\n",
        "    self.backend = backend\n",
        "    self.shots = shots\n",
        "\n",
        "\n",
        "  def run(self, input, conv, pool):\n",
        "    # amplitude encoding\n",
        "    input_normalized = input.reshape(1, -1).cpu()\n",
        "    input_normalized = normalize(input_normalized)[0] \n",
        "    circuit = QuantumCircuit(self.n_qubits)\n",
        "    circuit.initialize(input_normalized, circuit.qubits)\n",
        "    \n",
        "    # paramter binding\n",
        "    temp = self._circuit.bind_parameters({self.params_conv: conv.tolist()})\n",
        "    temp = temp.bind_parameters({self.params_pool: pool.tolist()})\n",
        "    circuit.compose(temp, qubits=[i for i in range(self.n_qubits)], inplace=True)\n",
        "\n",
        "    circuit = transpile(circuit, backend=self.backend)\n",
        "    qobj = assemble(circuit,\n",
        "                    shots=self.shots)\n",
        "    job = self.backend.run(qobj)\n",
        "    result = job.result().get_counts()\n",
        "\n",
        "    counts = np.array(list(result.values()))\n",
        "    states = np.array(list(result.keys())).astype(float)\n",
        "    \n",
        "    # Compute probabilities for each state\n",
        "    probabilities = counts / self.shots\n",
        "    # Get state expectation\n",
        "    expectation = np.sum(states * probabilities)\n",
        "    \n",
        "    return torch.tensor([expectation]).to(device)\n",
        "\n",
        "###### backpropagation????     \n",
        "class QFunction(Function):\n",
        "    @staticmethod\n",
        "    def forward(ctx, input, quantum_circuit, shift, conv, pool):\n",
        "        ctx.shift = shift\n",
        "        ctx.quantum_circuit = quantum_circuit\n",
        "        \n",
        "\n",
        "        expectation_z = ctx.quantum_circuit.run(input, conv, pool).to(device)\n",
        "        \n",
        "        ctx.save_for_backward(input, conv, pool, expectation_z)\n",
        "\n",
        "        return expectation_z.clone()\n",
        "        \n",
        "    @staticmethod\n",
        "    def backward(ctx, grad_output):\n",
        "        input, conv, pool, expectation_z = ctx.saved_tensors\n",
        "\n",
        "        \n",
        "        conv_shift_right = conv + torch.ones(conv.shape).to(device) * ctx.shift\n",
        "        conv_shift_left = conv - torch.ones(conv.shape).to(device) * ctx.shift\n",
        "        pool_shift_right = pool + torch.ones(pool.shape).to(device) * ctx.shift\n",
        "        pool_shift_left = pool - torch.ones(pool.shape).to(device) * ctx.shift\n",
        "        \n",
        "        gradients_conv = []\n",
        "        gradients_pool=[]\n",
        "\n",
        "        for i in range(len(conv)):\n",
        "          right = torch.cat((conv[:i], torch.unsqueeze(conv_shift_right[i], 0), conv[i+1:]), 0)\n",
        "          left = torch.cat((conv[:i], torch.unsqueeze(conv_shift_left[i], 0), conv[i+1:]), 0)\n",
        "\n",
        "          expectation_right = ctx.quantum_circuit.run(input, right, pool)\n",
        "          expectation_left  = ctx.quantum_circuit.run(input, left, pool)\n",
        "        \n",
        "          gradient = ((expectation_right.clone().detach()) \n",
        "                      - (expectation_left.clone().detach())).mean()*grad_output\n",
        "          gradients_conv.append(gradient.item())\n",
        "\n",
        "        for i in range(len(pool)):\n",
        "          right = torch.cat((pool[:i], torch.unsqueeze(pool_shift_right[i], 0), pool[i+1:]), 0)\n",
        "          left = torch.cat((pool[:i], torch.unsqueeze(pool_shift_left[i], 0), pool[i+1:]), 0)\n",
        "\n",
        "          expectation_right = ctx.quantum_circuit.run(input, conv, right)\n",
        "          expectation_left  = ctx.quantum_circuit.run(input, conv, left)\n",
        "        \n",
        "          gradient = ((expectation_right.clone().detach()) \n",
        "                      - (expectation_left.clone().detach())).mean()*grad_output\n",
        "          gradients_pool.append(gradient.item())\n",
        "\n",
        "        gradients_pool =  torch.tensor(gradients_pool).to(device)\n",
        "        gradients_conv =  torch.tensor(gradients_conv).to(device)\n",
        "        return None, None, None, gradients_conv, gradients_pool \n",
        "\n",
        "\n",
        "class QCNN(nn.Module):   \n",
        "    def __init__(self, backend, shots, shift):\n",
        "        super(QCNN, self).__init__()\n",
        "        self.quantum_circuit = QCircuit(n_qubits, n_out_qubit, n_conv, n_pool, backend, shots)\n",
        "        self.shift = shift\n",
        "        tt = 2*n_out_qubit - 3 if n_out_qubit != 1 else 0\n",
        "        \n",
        "        self.conv_params = nn.Parameter(torch.rand(n_conv*(2*n_qubits - 3 - tt)), requires_grad=True)\n",
        "        self.pool_params = nn.Parameter(torch.rand( n_pool*(n_qubits - 1 - tt)), requires_grad=True)\n",
        "        \n",
        "    def forward(self, input):\n",
        "        return QFunction.apply(input, self.quantum_circuit, self.shift, self.conv_params, self.pool_params)\n",
        "    \n",
        "    \n"
      ],
      "metadata": {
        "id": "Kl74LnlFgJJ8"
      },
      "execution_count": 19,
      "outputs": []
    },
    {
      "cell_type": "code",
      "source": [
        "lr = 0.01\n",
        "num_iter = 500"
      ],
      "metadata": {
        "id": "neJuf-0Wogkb"
      },
      "execution_count": 11,
      "outputs": []
    },
    {
      "cell_type": "code",
      "source": [
        "def test(model, dataloader_test):\n",
        "    total_loss = []\n",
        "    with torch.no_grad():\n",
        "        correct = 0\n",
        "        for batch_idx, (data, target) in enumerate(dataloader_test):\n",
        "            output = model(data).cpu()\n",
        "\n",
        "            pred = output >= 0.5\n",
        "            correct += pred.eq(target.view_as(pred)).sum().item()\n",
        "\n",
        "            loss = criterion(output, target.double())\n",
        "            total_loss.append(loss.item())\n",
        "\n",
        "        return sum(total_loss) / len(total_loss), (correct / len(dataloader_test) * 100)\n",
        "\n",
        "\n",
        "def saveList(lst, title, ylabel):\n",
        "    x = [i for i in range(len(lst))]\n",
        "    plt.cla()\n",
        "    plt.plot(x, lst, 'o-')\n",
        "    plt.title(title)\n",
        "    plt.ylabel(ylabel)\n",
        "    fname = title+\".png\"\n",
        "    plt.savefig(fname)"
      ],
      "metadata": {
        "id": "J7LhmJlPgMxD"
      },
      "execution_count": 12,
      "outputs": []
    },
    {
      "cell_type": "code",
      "source": [
        "simulator_gpu = qiskit.Aer.get_backend('aer_simulator')\n",
        "simulator_gpu.set_options(device='GPU')\n",
        "qcnn = QCNN(simulator_gpu, 100, np.pi/2).to(device)\n",
        "\n",
        "# Binary cross entropy\n",
        "criterion = nn.BCELoss()\n",
        "\n",
        "# Optimisers\n",
        "opt = optim.SGD(qcnn.parameters(), lr=lr)\n",
        "\n",
        "# Iteration counter\n",
        "counter = 0\n",
        "iter_n = 0\n",
        "\n",
        "# plot things\n",
        "loss_train = []\n",
        "loss_test = []\n",
        "accuracy_test = []\n",
        "\n",
        "while True:\n",
        "    for i, (data, label) in enumerate(dataloader):\n",
        "        # Data for training the discriminator\n",
        "        # for 1 batch\n",
        "        data = data.reshape(-1, image_size * image_size)\n",
        "        data = data.to(device)\n",
        "\n",
        "        # Noise follwing a uniform distribution in range [0,pi/2)\n",
        "        noise = torch.rand(batch_size, n_qubits, device=device) * math.pi / 2\n",
        "               \n",
        "        # Training the discriminator\n",
        "        qcnn.zero_grad()\n",
        "        out = qcnn(data).view(-1).to(device)\n",
        "        err = criterion(out, label.to(device).double())\n",
        "        loss_train.append(err.item())\n",
        "        err.backward()\n",
        "        \n",
        "        opt.step()\n",
        "\n",
        "        \n",
        "        counter += 1\n",
        "        \n",
        "        # Show loss values\n",
        "        if counter % 10 == 0:\n",
        "            print(f'Iteration: {counter}, Loss: {err:0.3f}')\n",
        "\n",
        "        if counter % 100 == 0:\n",
        "            test_loss, test_accuracy = test(qcnn, dataloader_test)\n",
        "            loss_test.append(test_loss)\n",
        "            accuracy_test.append(test_accuracy)\n",
        "\n",
        "        if counter >= num_iter:\n",
        "            break\n",
        "\n",
        "    iter_n += 1\n",
        "    if counter >= num_iter:\n",
        "        print(\"iteration : \", iter_n )\n",
        "        break\n",
        "\n",
        "qcnn1 = QCNN(qiskit.Aer.get_backend('aer_simulator'), 100, np.pi/2).to(device)\n",
        "qcnn.eval()\n",
        "total_loss = []\n",
        "\n",
        "saveList(loss_train, \"loss_train\", \"loss\")\n",
        "saveList(loss_test, \"loss_test\", \"loss\")\n",
        "saveList(accuracy_test, \"accuracy_test\", \"accuracy\")"
      ],
      "metadata": {
        "colab": {
          "base_uri": "https://localhost:8080/"
        },
        "id": "TUfQxBgzrRFb",
        "outputId": "c7f38c69-3a91-4826-d1c1-7296acc6f8b2"
      },
      "execution_count": null,
      "outputs": [
        {
          "output_type": "stream",
          "name": "stdout",
          "text": [
            "Iteration: 10, Loss: 0.598\n",
            "Iteration: 20, Loss: 0.799\n",
            "Iteration: 30, Loss: 0.462\n",
            "Iteration: 40, Loss: 0.713\n",
            "Iteration: 50, Loss: 0.844\n",
            "Iteration: 60, Loss: 0.868\n",
            "Iteration: 70, Loss: 0.342\n",
            "Iteration: 80, Loss: 0.892\n",
            "Iteration: 90, Loss: 0.446\n",
            "Iteration: 100, Loss: 0.892\n",
            "Iteration: 110, Loss: 0.654\n",
            "Iteration: 120, Loss: 0.916\n",
            "Iteration: 130, Loss: 0.386\n",
            "Iteration: 140, Loss: 0.821\n",
            "Iteration: 150, Loss: 0.598\n",
            "Iteration: 160, Loss: 0.693\n",
            "Iteration: 170, Loss: 0.386\n",
            "Iteration: 180, Loss: 0.511\n",
            "Iteration: 190, Loss: 0.755\n",
            "Iteration: 200, Loss: 0.713\n",
            "Iteration: 210, Loss: 0.371\n",
            "Iteration: 220, Loss: 0.616\n",
            "Iteration: 230, Loss: 0.713\n",
            "Iteration: 240, Loss: 0.562\n",
            "Iteration: 250, Loss: 0.693\n",
            "Iteration: 260, Loss: 0.431\n",
            "Iteration: 270, Loss: 0.734\n",
            "Iteration: 280, Loss: 0.821\n",
            "Iteration: 290, Loss: 0.431\n",
            "Iteration: 300, Loss: 0.528\n",
            "Iteration: 310, Loss: 0.635\n",
            "Iteration: 320, Loss: 0.315\n",
            "Iteration: 330, Loss: 0.713\n",
            "Iteration: 340, Loss: 0.580\n",
            "Iteration: 350, Loss: 0.301\n",
            "Iteration: 360, Loss: 0.673\n",
            "Iteration: 370, Loss: 0.635\n",
            "Iteration: 380, Loss: 0.431\n",
            "Iteration: 390, Loss: 0.580\n"
          ]
        }
      ]
    },
    {
      "cell_type": "code",
      "source": [
        "\n",
        "qcnn.eval()\n",
        "total_loss = []\n",
        "\n",
        "with torch.no_grad():\n",
        "    \n",
        "    correct = 0\n",
        "    for batch_idx, (data, target) in enumerate(dataloader_test):\n",
        "        output = qcnn(data)\n",
        "        \n",
        "        pred = output >= 0.5\n",
        "        correct += pred.eq(target.view_as(pred)).sum().item()\n",
        "        \n",
        "        loss = criterion(output, target.double())\n",
        "        total_loss.append(loss.item())\n",
        "        \n",
        "    print('Performance on test data:\\n\\tLoss: {:.4f}\\n\\tAccuracy: {:.1f}%'.format(\n",
        "        sum(total_loss) / len(total_loss),\n",
        "        correct / len(dataloader_test) * 100)\n",
        "        )"
      ],
      "metadata": {
        "colab": {
          "base_uri": "https://localhost:8080/"
        },
        "id": "Fj8CDXcjOp2k",
        "outputId": "4a31f38d-3bbd-47cc-ac72-c9e8a67785fc"
      },
      "execution_count": null,
      "outputs": [
        {
          "output_type": "stream",
          "name": "stdout",
          "text": [
            "Performance on test data:\n",
            "\tLoss: 0.5789\n",
            "\tAccuracy: 87.0%\n"
          ]
        }
      ]
    },
    {
      "cell_type": "code",
      "source": [],
      "metadata": {
        "id": "FChCePYHK4Yo"
      },
      "execution_count": null,
      "outputs": []
    }
  ]
}